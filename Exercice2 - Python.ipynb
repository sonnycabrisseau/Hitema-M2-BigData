{
 "cells": [
  {
   "cell_type": "code",
   "execution_count": 1,
   "metadata": {},
   "outputs": [],
   "source": [
    "class Point:\n",
    "    def __init__(self,x,y,z=None):#par défault on donne la valeur None à l'attribut z\n",
    "        \n",
    "        self.x=x\n",
    "        self.y=y\n",
    "        self.z=z\n",
    "    \n",
    "    def ToString(self):\n",
    "        \"\"\"\n",
    "        L'affichage du point\n",
    "        \"\"\"\n",
    "        if self.z==None:print(\"P(%.2f , %.2f)\"%(self.x,self.y)) # si z n'est pas défini\n",
    "        else:print(\"P(%.2f , %.2f , %.2f)\"%(self.x,self.y,self.z)) # si z est défini"
   ]
  },
  {
   "cell_type": "code",
   "execution_count": 2,
   "metadata": {},
   "outputs": [
    {
     "name": "stdout",
     "output_type": "stream",
     "text": [
      "P(2.00 , 3.00)\n"
     ]
    }
   ],
   "source": [
    "P1=Point(2,3)\n",
    "P1.ToString()"
   ]
  },
  {
   "cell_type": "code",
   "execution_count": 3,
   "metadata": {},
   "outputs": [
    {
     "name": "stdout",
     "output_type": "stream",
     "text": [
      "P(2.00 , 3.00)\n",
      "P(1.00 , -5.00 , 6.00)\n"
     ]
    }
   ],
   "source": [
    "P1=Point(2,3)\n",
    "P1.ToString()\n",
    "\n",
    "P2=Point(1,-5,6)\n",
    "P2.ToString()\n"
   ]
  },
  {
   "cell_type": "code",
   "execution_count": null,
   "metadata": {},
   "outputs": [],
   "source": []
  }
 ],
 "metadata": {
  "kernelspec": {
   "display_name": "Python 3",
   "language": "python",
   "name": "python3"
  },
  "language_info": {
   "codemirror_mode": {
    "name": "ipython",
    "version": 3
   },
   "file_extension": ".py",
   "mimetype": "text/x-python",
   "name": "python",
   "nbconvert_exporter": "python",
   "pygments_lexer": "ipython3",
   "version": "3.7.4"
  }
 },
 "nbformat": 4,
 "nbformat_minor": 2
}
