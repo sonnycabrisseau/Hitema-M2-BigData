{
 "cells": [
  {
   "cell_type": "code",
   "execution_count": 5,
   "metadata": {
    "scrolled": true
   },
   "outputs": [],
   "source": [
    "class CompteBancaire:\n",
    "    \n",
    "    def __init__(self,nom='Dupont',solde=1000):\n",
    "        self.nom=nom\n",
    "        self.solde=solde\n",
    "        \n",
    "    def depot(self,somme):\n",
    "        self.solde+=somme\n",
    "        \n",
    "    def retrait(self,somme):\n",
    "        self.solde-=somme\n",
    "        \n",
    "    def affiche(self):\n",
    "        print(\"Le solde du compte bancaire de %s est de %.2f euros.\"%(self.nom,self.solde))\n"
   ]
  },
  {
   "cell_type": "code",
   "execution_count": 8,
   "metadata": {},
   "outputs": [
    {
     "name": "stdout",
     "output_type": "stream",
     "text": [
      "Le solde du compte bancaire de Duchmol est de 950.00 euros.\n"
     ]
    }
   ],
   "source": [
    "compte1 = CompteBancaire(\"Duchmol\", 800)\n",
    "compte1.depot(350)\n",
    "compte1.retrait(200)\n",
    "compte1.affiche()"
   ]
  },
  {
   "cell_type": "code",
   "execution_count": 10,
   "metadata": {},
   "outputs": [
    {
     "name": "stdout",
     "output_type": "stream",
     "text": [
      "Le solde du compte bancaire de Duchmol est de 950.00 euros.\n",
      "Le solde du compte bancaire de Dupont est de 1025.00 euros.\n"
     ]
    }
   ],
   "source": [
    "compte1 = CompteBancaire(\"Duchmol\", 800)\n",
    "compte1.depot(350)\n",
    "compte1.retrait(200)\n",
    "compte1.affiche()\n",
    "\n",
    "compte2 = CompteBancaire()\n",
    "compte2.depot(25)\n",
    "compte2.affiche()"
   ]
  },
  {
   "cell_type": "code",
   "execution_count": null,
   "metadata": {},
   "outputs": [],
   "source": []
  }
 ],
 "metadata": {
  "kernelspec": {
   "display_name": "Python 3",
   "language": "python",
   "name": "python3"
  },
  "language_info": {
   "codemirror_mode": {
    "name": "ipython",
    "version": 3
   },
   "file_extension": ".py",
   "mimetype": "text/x-python",
   "name": "python",
   "nbconvert_exporter": "python",
   "pygments_lexer": "ipython3",
   "version": "3.7.4"
  }
 },
 "nbformat": 4,
 "nbformat_minor": 2
}
