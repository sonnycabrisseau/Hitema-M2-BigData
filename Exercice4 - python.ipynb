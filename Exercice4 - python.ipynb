{
 "cells": [
  {
   "cell_type": "code",
   "execution_count": 1,
   "metadata": {},
   "outputs": [],
   "source": [
    "   class Courrier:\n",
    "    \"\"\"La classe mère 'Informations générales(communes) quelques soit le courrier'\"\"\"\n",
    "    \n",
    "    def __init__(self,AdresseDestination,AdressExpedition,poids,mode):\n",
    "        self.AdresseDestination=AdresseDestination\n",
    "        self.AdressExpedition=AdressExpedition\n",
    "        self.poids=poids\n",
    "        self.mode=mode\n",
    "        \n",
    "    def ToString(self):\n",
    "        \"\"\"Affichage des information communs pour chaque courriers soit lettre ou collis\"\"\"\n",
    "        \n",
    "        print(\" Adresse destination: %s \\n Adress expedition: %s\\n Poids: %.2f grammes\\n Mode: %s \"%(self.AdresseDestination,self.AdressExpedition,self.poids,self.mode))\n",
    " \n",
    " \n",
    "class Lettre(Courrier):\n",
    "    \"\"\"Lettre est une classe dirive de la class donc la classe fille \"Lettre\" hérite tous les attributs et toutes les méthode de la classe mère \"Courrier\"\"\"\n",
    "    def __init__(self,AdresseDestination,AdressExpedition,poids,mode,format):\n",
    "        \"\"\"Polymorphysme(redéfinition)\"\"\"\n",
    "        Courrier.__init__(self,AdresseDestination,AdressExpedition,poids,mode)\n",
    "        self.format=format\n",
    "        \n",
    "    def calculTimbre(self):\n",
    "        \"Nouvelle méthode\"\n",
    "        \n",
    "        if self.format==\"A4\":tarif_base=2.5\n",
    "        if self.format==\"A3\":tarif_base=3.5\n",
    "        \n",
    "        montant=tarif_base*self.poids/1000\n",
    "        \n",
    "        if self.mode==\"expresse\":montant*=2\n",
    "        \n",
    "        return montant\n",
    "        \n",
    "    def ToString(self):\n",
    "        \"\"\"Polymorphysme(redéfinition)\"\"\"\n",
    "        print(\"Lettre:\")\n",
    "        Courrier.ToString(self)\n",
    "        print(\" Format:%s\\n Prix du timbre:%.2f\"%(self.format,self.calculTimbre()))\n",
    " \n",
    "class Colis(Courrier):\n",
    "    def __init__(self,AdresseDestination,AdressExpedition,poids,mode,volume):\n",
    "        Courrier.__init__(self,AdresseDestination,AdressExpedition,poids,mode)\n",
    "        self.volume=volume\n",
    "    def calculTimbre(self):\n",
    "        \"Nouvelle méthode\"\n",
    "        \n",
    "        montant=0.0\n",
    "        \n",
    "        montant=0.25*self.volume*self.poids/1000\n",
    "        \n",
    "        if self.mode==\"expresse\":montant*=2\n",
    "        \n",
    "        return montant\n",
    "        \n",
    "    def ToString(self):\n",
    "        \"\"\"Polymorphysme(redéfinition)\"\"\"\n",
    "        \n",
    "        print(\"Collis:\")\n",
    "        Courrier.ToString(self)\n",
    "        print(\" Volume: %.2f litres\\n Prix du timbre:%.2f\"%(self.volume,self.calculTimbre()))"
   ]
  },
  {
   "cell_type": "code",
   "execution_count": 3,
   "metadata": {},
   "outputs": [
    {
     "name": "stdout",
     "output_type": "stream",
     "text": [
      "Lettre:\n",
      " Adresse destination: Lille \n",
      " Adress expedition: Paris\n",
      " Poids: 80.00 grammes\n",
      " Mode: normal \n",
      " Format:A4\n",
      " Prix du timbre:0.20\n"
     ]
    }
   ],
   "source": [
    "L1=Lettre(\"Lille\",\"Paris\",80,\"normal\",\"A4\")\n",
    "L1.ToString()"
   ]
  },
  {
   "cell_type": "code",
   "execution_count": 4,
   "metadata": {},
   "outputs": [
    {
     "name": "stdout",
     "output_type": "stream",
     "text": [
      "Lettre:\n",
      " Adresse destination: Lille \n",
      " Adress expedition: Paris\n",
      " Poids: 80.00 grammes\n",
      " Mode: normal \n",
      " Format:A4\n",
      " Prix du timbre:0.20\n",
      "Collis:\n",
      " Adresse destination: Marrakeche \n",
      " Adress expedition: Barcelone \n",
      " Poids: 3500.00 grammes\n",
      " Mode: expresse \n",
      " Volume: 2.25 litres\n",
      " Prix du timbre:3.94\n"
     ]
    }
   ],
   "source": [
    "L1=Lettre(\"Lille\",\"Paris\",80,\"normal\",\"A4\")\n",
    "L1.ToString()\n",
    "\n",
    "C1=Colis(\"Marrakeche\",\"Barcelone \",3500,\"expresse\",2.25)\n",
    "C1.ToString()"
   ]
  },
  {
   "cell_type": "code",
   "execution_count": null,
   "metadata": {},
   "outputs": [],
   "source": []
  }
 ],
 "metadata": {
  "kernelspec": {
   "display_name": "Python 3",
   "language": "python",
   "name": "python3"
  },
  "language_info": {
   "codemirror_mode": {
    "name": "ipython",
    "version": 3
   },
   "file_extension": ".py",
   "mimetype": "text/x-python",
   "name": "python",
   "nbconvert_exporter": "python",
   "pygments_lexer": "ipython3",
   "version": "3.7.4"
  }
 },
 "nbformat": 4,
 "nbformat_minor": 2
}
