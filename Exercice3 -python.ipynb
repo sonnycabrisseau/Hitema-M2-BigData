{
 "cells": [
  {
   "cell_type": "code",
   "execution_count": 1,
   "metadata": {},
   "outputs": [],
   "source": [
    "class DateNaissance:\n",
    "    \"Classe DateNaissance\"\n",
    "    def __init__(self,jour,mois,annee):\n",
    "        self.jour=jour\n",
    "        self.mois=mois\n",
    "        self.annee=annee\n",
    "        \n",
    "    def ToString(self):\n",
    "        \"\"\"Méthode qui convertit la date de naissance en chaine de caractère\"\"\"\n",
    "        return \"%02d / %02d / %d\" %(self.jour,self.mois,self.annee)\n",
    " \n",
    "class personne:#la classe mère\n",
    "    def __init__(self,nom,prenom,date_naissance):\n",
    "        self.nom=nom\n",
    "        self.prenom=prenom\n",
    "        self.date_naissance=date_naissance\n",
    "        \n",
    "    def afficher(self):\n",
    "        print(\"Nom:%s \\nPrénom: %s \\nDate de naissance: %s\"%(self.nom,self.prenom,self.date_naissance.ToString()))\n",
    " \n",
    "class employe(personne):#employe est une classe fille qui hérite de la classe mère personne\n",
    " \n",
    "    def __init__(self,nom,prenom,date_naissance,salaire):#redéfinir le constructeur \"Polymorphisme d'héritage\"\n",
    "        personne.__init__(self,nom,prenom,date_naissance)#Instanciation de la classe mère (appeler le constructeur de la classe mère dans le constructeur de la classe fille)\n",
    "        self.salaire=salaire\n",
    "    def afficher(self):#redéfinir la méthode polymorphe Afficher\n",
    "        personne.afficher(self)\n",
    "        print(\"Salaire: %.02f\"%self.salaire)\n",
    " \n",
    "class chef(employe):#chef est une classe fille de la classe mère employe qui est une classe fille de la classe personne\n",
    "    def __init__(self,nom,prenom,date_naissance,salaire,service):\n",
    "        employe.__init__(self,nom,prenom,date_naissance,salaire)\n",
    "        self.service=service\n",
    "    def afficher(self):\n",
    "        employe.afficher(self)\n",
    "        print(\"Service: %s\"%self.service)"
   ]
  },
  {
   "cell_type": "code",
   "execution_count": 3,
   "metadata": {},
   "outputs": [
    {
     "name": "stdout",
     "output_type": "stream",
     "text": [
      "Nom:Ilyass \n",
      "Prénom: Math \n",
      "Date de naissance: 01 / 07 / 1982\n"
     ]
    }
   ],
   "source": [
    "P=personne(\"Ilyass\",\"Math\",DateNaissance(1,7,1982))\n",
    "P.afficher()"
   ]
  },
  {
   "cell_type": "code",
   "execution_count": 6,
   "metadata": {},
   "outputs": [
    {
     "name": "stdout",
     "output_type": "stream",
     "text": [
      "Nom:Ilyass \n",
      "Prénom: Math \n",
      "Date de naissance: 01 / 07 / 1982\n",
      "Nom:Ilyass \n",
      "Prénom: Math \n",
      "Date de naissance: 01 / 07 / 1985\n",
      "Salaire: 7865.55\n",
      "Nom:Ilyass \n",
      "Prénom: Math \n",
      "Date de naissance: 01 / 07 / 1988\n",
      "Salaire: 7865.55\n",
      "Service: Ressource humaine\n"
     ]
    }
   ],
   "source": [
    "P=personne(\"Ilyass\",\"Math\",DateNaissance(1,7,1982))\n",
    "P.afficher()\n",
    "\n",
    "\n",
    "E=employe(\"Ilyass\",\"Math\",DateNaissance(1,7,1985),7865.548)\n",
    "E.afficher()\n",
    "\n",
    "\n",
    "Ch=chef(\"Ilyass\",\"Math\",DateNaissance(1,7,1988),7865.548,\"Ressource humaine\")\n",
    "Ch.afficher()\n"
   ]
  },
  {
   "cell_type": "code",
   "execution_count": null,
   "metadata": {},
   "outputs": [],
   "source": []
  }
 ],
 "metadata": {
  "kernelspec": {
   "display_name": "Python 3",
   "language": "python",
   "name": "python3"
  },
  "language_info": {
   "codemirror_mode": {
    "name": "ipython",
    "version": 3
   },
   "file_extension": ".py",
   "mimetype": "text/x-python",
   "name": "python",
   "nbconvert_exporter": "python",
   "pygments_lexer": "ipython3",
   "version": "3.7.4"
  }
 },
 "nbformat": 4,
 "nbformat_minor": 2
}
